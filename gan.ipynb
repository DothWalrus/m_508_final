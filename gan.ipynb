{
 "cells": [
  {
   "cell_type": "code",
   "execution_count": 1,
   "id": "f4c07744",
   "metadata": {},
   "outputs": [],
   "source": [
    "import numpy as np\n",
    "import scipy.io\n",
    "import h5py\n",
    "import tensorflow as tf\n",
    "from tensorflow import keras\n",
    "from tensorflow.keras.models import Sequential \n",
    "from tensorflow.keras.layers import Dense\n",
    "from tensorflow.keras.layers import Conv2DTranspose\n",
    "from tensorflow.keras.layers import Conv2D\n",
    "from tensorflow.keras.layers import BatchNormalization\n",
    "from tensorflow.keras.layers import LeakyReLU\n",
    "from tensorflow.keras.layers import Softmax\n",
    "from tensorflow.keras.layers import Reshape\n",
    "from tensorflow.keras.layers import Flatten\n",
    "from tensorflow.keras.layers import Dropout\n",
    "import matplotlib.pyplot as plt"
   ]
  },
  {
   "cell_type": "code",
   "execution_count": 2,
   "id": "ba7bb445",
   "metadata": {},
   "outputs": [],
   "source": [
    "# Load cbcl \n",
    "mat = scipy.io.loadmat('cbcl_cropped.mat')"
   ]
  },
  {
   "cell_type": "code",
   "execution_count": 684,
   "id": "7fb6879a",
   "metadata": {},
   "outputs": [
    {
     "name": "stdout",
     "output_type": "stream",
     "text": [
      "(324, 2900)\n",
      "(2900, 18, 18, 1)\n",
      "tf.Tensor([2900   18   18    1], shape=(4,), dtype=int32)\n",
      "tf.Tensor([ 1 18 18  1], shape=(4,), dtype=int32)\n",
      "(18, 18)\n"
     ]
    },
    {
     "data": {
      "text/plain": [
       "<matplotlib.image.AxesImage at 0x7f58daeaf3d0>"
      ]
     },
     "execution_count": 684,
     "metadata": {},
     "output_type": "execute_result"
    },
    {
     "data": {
      "image/png": "[encoded data removed]",
      "text/plain": [
       "<Figure size 432x288 with 1 Axes>"
      ]
     },
     "metadata": {
      "needs_background": "light"
     },
     "output_type": "display_data"
    }
   ],
   "source": [
    "# Preprocess Data (reshape and show example image)\n",
    "X = mat['Z']\n",
    "print(np.shape(X))\n",
    "X = np.reshape(X, [1,18,18,2900])\n",
    "X = np.transpose(X, axes=(3,1,2,0))\n",
    "X = np.rot90(X, k=3, axes=(1, 2))\n",
    "\n",
    "BUFFER_SIZE = 60000\n",
    "BATCH_SIZE = 5\n",
    "\n",
    "print(np.shape(X))\n",
    "\n",
    "X = tf.convert_to_tensor(X)\n",
    "print(tf.shape(X))\n",
    "\n",
    "ex_im = tf.slice(X, begin=[0,0,0,0],size =[1,18,18,1])\n",
    "print(tf.shape(ex_im))\n",
    "\n",
    "print(np.shape(ex_im[0,:,:,0]))\n",
    "plt.imshow(ex_im[0,:,:,0], cmap='gray')\n"
   ]
  },
  {
   "cell_type": "code",
   "execution_count": 372,
   "id": "dd302225",
   "metadata": {},
   "outputs": [],
   "source": [
    "# Create generator network\n",
    "def make_generator_model():\n",
    "    model = tf.keras.Sequential()\n",
    "    model.add(Dense(3*3*256, use_bias=False, input_shape=(100,)))\n",
    "    model.add(BatchNormalization())\n",
    "    model.add(LeakyReLU())\n",
    "\n",
    "    model.add(Reshape((3, 3, 256)))\n",
    "    assert model.output_shape == (None, 3, 3, 256)  # Note: None is the batch size\n",
    "\n",
    "    model.add(Conv2DTranspose(128, (5, 5), strides=(2, 2), padding='same', use_bias=False))\n",
    "    assert model.output_shape == (None, 6, 6, 128)\n",
    "    model.add(BatchNormalization())\n",
    "    model.add(LeakyReLU())\n",
    "\n",
    "    model.add(Conv2DTranspose(64, (5, 5), strides=(3, 3), padding='same', use_bias=False))\n",
    "    assert model.output_shape == (None, 18, 18, 64)\n",
    "    \n",
    "    model.add(Conv2DTranspose(1, (5, 5), strides=(1, 1), padding='same', use_bias=False))\n",
    "    assert model.output_shape == (None, 18, 18,1)\n",
    "    \n",
    "#     model.add(Reshape((18,18)))\n",
    "#     model.add(Flatten())\n",
    "    \n",
    "#     model.add(Softmax())\n",
    "\n",
    "    return model"
   ]
  },
  {
   "cell_type": "code",
   "execution_count": 373,
   "id": "be1d42fe",
   "metadata": {},
   "outputs": [
    {
     "name": "stdout",
     "output_type": "stream",
     "text": [
      "tf.Tensor([ 2 18 18  1], shape=(4,), dtype=int32)\n"
     ]
    },
    {
     "data": {
      "text/plain": [
       "<matplotlib.image.AxesImage at 0x7f5a2a01a910>"
      ]
     },
     "execution_count": 373,
     "metadata": {},
     "output_type": "execute_result"
    },
    {
     "data": {
      "image/png": "[encoded data removed]",
      "text/plain": [
       "<Figure size 432x288 with 1 Axes>"
      ]
     },
     "metadata": {
      "needs_background": "light"
     },
     "output_type": "display_data"
    }
   ],
   "source": [
    "generator = make_generator_model()\n",
    "\n",
    "noise = tf.random.normal([2, 100])\n",
    "generated_image = generator(noise, training=False)\n",
    "print(tf.shape(generated_image))\n",
    "\n",
    "plt.imshow(generated_image[0,:,:,0], cmap='gray')"
   ]
  },
  {
   "cell_type": "code",
   "execution_count": 374,
   "id": "8ec3ed7b",
   "metadata": {},
   "outputs": [],
   "source": [
    "def make_discriminator_model():\n",
    "    model = tf.keras.Sequential()\n",
    "    model.add(Conv2D(64, (5, 5), strides=(2, 2), padding='same',input_shape=(18,18,1)))\n",
    "    model.add(LeakyReLU())\n",
    "    model.add(Dropout(0.3))\n",
    "\n",
    "    model.add(Conv2D(128, (5, 5), strides=(2, 2), padding='same'))\n",
    "    model.add(LeakyReLU())\n",
    "    model.add(Dropout(0.3))\n",
    "\n",
    "    model.add(Flatten())\n",
    "    model.add(Dense(1))\n",
    "\n",
    "    return model"
   ]
  },
  {
   "cell_type": "code",
   "execution_count": 375,
   "id": "f5fe0c35",
   "metadata": {},
   "outputs": [
    {
     "name": "stdout",
     "output_type": "stream",
     "text": [
      "tf.Tensor(\n",
      "[[0.00125863]\n",
      " [0.00221789]], shape=(2, 1), dtype=float32) tf.Tensor([[0.01650321]], shape=(1, 1), dtype=float32)\n"
     ]
    }
   ],
   "source": [
    "discriminator = make_discriminator_model()\n",
    "decision_1 = discriminator(generated_image)\n",
    "# indx = 17;\n",
    "# print(type(indx))\n",
    "# print(X)\n",
    "decision_2 = discriminator(ex_im)\n",
    "print(decision_1, decision_2)"
   ]
  },
  {
   "cell_type": "code",
   "execution_count": 376,
   "id": "1bd97fdc",
   "metadata": {},
   "outputs": [],
   "source": [
    "cross_entropy = tf.keras.losses.BinaryCrossentropy(from_logits=True)"
   ]
  },
  {
   "cell_type": "code",
   "execution_count": 377,
   "id": "11b6c482",
   "metadata": {},
   "outputs": [],
   "source": [
    "def discriminator_loss(real_output, fake_output):\n",
    "    real_loss = cross_entropy(tf.ones_like(real_output), real_output)\n",
    "    fake_loss = cross_entropy(tf.zeros_like(fake_output), fake_output)\n",
    "    total_loss = real_loss + fake_loss\n",
    "    return total_loss"
   ]
  },
  {
   "cell_type": "code",
   "execution_count": 378,
   "id": "98fa153c",
   "metadata": {},
   "outputs": [],
   "source": [
    "def generator_loss(fake_output):\n",
    "    return cross_entropy(tf.ones_like(fake_output), fake_output)"
   ]
  },
  {
   "cell_type": "code",
   "execution_count": 379,
   "id": "d4b5d8b1",
   "metadata": {},
   "outputs": [],
   "source": [
    "generator_optimizer = tf.keras.optimizers.Adam(1e-4)\n",
    "discriminator_optimizer = tf.keras.optimizers.Adam(1e-4)"
   ]
  },
  {
   "cell_type": "code",
   "execution_count": 380,
   "id": "37d599a3",
   "metadata": {},
   "outputs": [],
   "source": [
    "train_images = X\n",
    "# train_images = train_images.reshape(train_images.shape[0], 18, 18, 1).astype('float32')\n",
    "# train_images = (train_images - 127.5) / 127.5  # Normalize the images to [-1, 1]"
   ]
  },
  {
   "cell_type": "code",
   "execution_count": 381,
   "id": "c18c216c",
   "metadata": {},
   "outputs": [
    {
     "name": "stdout",
     "output_type": "stream",
     "text": [
      "<BatchDataset shapes: (None, 18, 18, 1), types: tf.float64>\n"
     ]
    }
   ],
   "source": [
    "EPOCHS = 50\n",
    "noise_dim = 100\n",
    "num_examples_to_generate = 16\n",
    "train_dataset = tf.data.Dataset.from_tensor_slices(train_images).shuffle(BUFFER_SIZE).batch(BATCH_SIZE)\n",
    "print(train_dataset)\n",
    "# seed = tf.random.normal([num_examples_to_generate, noise_dim])"
   ]
  },
  {
   "cell_type": "code",
   "execution_count": 382,
   "id": "d0d32420",
   "metadata": {},
   "outputs": [],
   "source": [
    "# Notice the use of `tf.function`\n",
    "# This annotation causes the function to be \"compiled\".\n",
    "# @tf.function\n",
    "def train_step(images):\n",
    "    noise = tf.random.normal([BATCH_SIZE, noise_dim])\n",
    "\n",
    "    with tf.GradientTape() as gen_tape, tf.GradientTape() as disc_tape:\n",
    "      generated_images = generator(noise, training=True)\n",
    "\n",
    "      real_output = discriminator(images, training=True)\n",
    "      fake_output = discriminator(generated_images, training=True)\n",
    "\n",
    "      gen_loss = generator_loss(fake_output)\n",
    "      disc_loss = discriminator_loss(real_output, fake_output)\n",
    "\n",
    "    gradients_of_generator = gen_tape.gradient(gen_loss, generator.trainable_variables)\n",
    "    gradients_of_discriminator = disc_tape.gradient(disc_loss, discriminator.trainable_variables)\n",
    "\n",
    "    generator_optimizer.apply_gradients(zip(gradients_of_generator, generator.trainable_variables))\n",
    "    discriminator_optimizer.apply_gradients(zip(gradients_of_discriminator, discriminator.trainable_variables))\n"
   ]
  },
  {
   "cell_type": "code",
   "execution_count": 425,
   "id": "5fc1e709",
   "metadata": {},
   "outputs": [],
   "source": [
    "def train(dataset, epochs):\n",
    "    for epoch in range(epochs):\n",
    "        print('Epoch = ', epoch)\n",
    "        for image_batch in dataset:\n",
    "          train_step(image_batch)\n",
    "    print('End')\n"
   ]
  },
  {
   "cell_type": "code",
   "execution_count": 426,
   "id": "5063076e",
   "metadata": {},
   "outputs": [],
   "source": [
    "def generate_and_save_images(model, epoch, test_input):\n",
    "  # Notice `training` is set to False.\n",
    "  # This is so all layers run in inference mode (batchnorm).\n",
    "  predictions = model(test_input, training=False)\n",
    "\n",
    "  fig = plt.figure(figsize=(4, 4))\n",
    "\n",
    "  for i in range(predictions.shape[0]):\n",
    "      plt.subplot(4, 4, i+1)\n",
    "      plt.imshow(predictions[i, :, :, 0] * 127.5 + 127.5, cmap='gray')\n",
    "      plt.axis('off')\n",
    "\n",
    "  plt.savefig('image_at_epoch_{:04d}.png'.format(epoch))\n",
    "  plt.show()\n"
   ]
  },
  {
   "cell_type": "code",
   "execution_count": 743,
   "id": "4ba9d423",
   "metadata": {
    "scrolled": true
   },
   "outputs": [
    {
     "name": "stdout",
     "output_type": "stream",
     "text": [
      "Epoch =  0\n",
      "Epoch =  1\n",
      "Epoch =  2\n",
      "Epoch =  3\n",
      "Epoch =  4\n",
      "Epoch =  5\n",
      "Epoch =  6\n",
      "Epoch =  7\n",
      "Epoch =  8\n",
      "Epoch =  9\n",
      "Epoch =  10\n",
      "Epoch =  11\n",
      "Epoch =  12\n",
      "Epoch =  13\n",
      "Epoch =  14\n",
      "Epoch =  15\n",
      "Epoch =  16\n",
      "Epoch =  17\n",
      "Epoch =  18\n",
      "Epoch =  19\n",
      "Epoch =  20\n",
      "Epoch =  21\n",
      "Epoch =  22\n",
      "Epoch =  23\n",
      "Epoch =  24\n",
      "Epoch =  25\n",
      "Epoch =  26\n",
      "Epoch =  27\n",
      "Epoch =  28\n",
      "Epoch =  29\n",
      "Epoch =  30\n",
      "Epoch =  31\n",
      "Epoch =  32\n",
      "Epoch =  33\n",
      "Epoch =  34\n",
      "Epoch =  35\n",
      "Epoch =  36\n",
      "Epoch =  37\n",
      "Epoch =  38\n",
      "Epoch =  39\n",
      "Epoch =  40\n",
      "Epoch =  41\n",
      "Epoch =  42\n",
      "Epoch =  43\n",
      "Epoch =  44\n",
      "Epoch =  45\n",
      "Epoch =  46\n",
      "Epoch =  47\n",
      "Epoch =  48\n",
      "Epoch =  49\n",
      "End\n"
     ]
    }
   ],
   "source": [
    "train(train_dataset,50)"
   ]
  },
  {
   "cell_type": "code",
   "execution_count": 744,
   "id": "1de5121f",
   "metadata": {},
   "outputs": [
    {
     "name": "stdout",
     "output_type": "stream",
     "text": [
      "tf.Tensor([10000    18    18     1], shape=(4,), dtype=int32)\n"
     ]
    },
    {
     "data": {
      "text/plain": [
       "<matplotlib.image.AxesImage at 0x7f58d8716890>"
      ]
     },
     "execution_count": 744,
     "metadata": {},
     "output_type": "execute_result"
    },
    {
     "data": {
      "image/png": "[encoded data removed]",
      "text/plain": [
       "<Figure size 432x288 with 1 Axes>"
      ]
     },
     "metadata": {
      "needs_background": "light"
     },
     "output_type": "display_data"
    }
   ],
   "source": [
    "noise = tf.random.normal([10000, 100], 1, 10)\n",
    "generated_image = generator(noise, training=False)\n",
    "print(tf.shape(generated_image))\n",
    "\n",
    "# vec = np.sor(np.rand)\n",
    "\n",
    "# for i in range(10):\n",
    "plt.imshow(generated_image[1,:,:,0], cmap='gray')"
   ]
  },
  {
   "cell_type": "code",
   "execution_count": 754,
   "id": "3df3bf4c",
   "metadata": {},
   "outputs": [
    {
     "name": "stdout",
     "output_type": "stream",
     "text": [
      "(10000,)\n",
      "0.2408\n",
      "(2900,)\n",
      "0.926896551724138\n"
     ]
    }
   ],
   "source": [
    "# discriminator = make_discriminator_model()\n",
    "decision_1 = discriminator(generated_image).numpy()\n",
    "decision_1 = decision_1[:,0]\n",
    "print(np.shape(decision_1))\n",
    "# indx = 17;\n",
    "# print(type(indx))\n",
    "# print(X)\n",
    "decision_1 = np.sign(decision_1)\n",
    "count_1 = np.zeros(len(decision_1))\n",
    "\n",
    "for i in range(len(decision_1)):\n",
    "    if decision_1[i] == 1:\n",
    "        count_1[i] = 1\n",
    "        \n",
    "accuracy_1 = sum(count_1)/len(count_1)\n",
    "print(accuracy_1)\n",
    "\n",
    "decision_2 = np.sign(discriminator(train_images).numpy())\n",
    "decision_2 = decision_2[:,0]\n",
    "print(np.shape(decision_2))\n",
    "count_2 = np.zeros(len(decision_2))\n",
    "\n",
    "for i in range(len(decision_2)):\n",
    "    if decision_2[i] == 1:\n",
    "        count_2[i] = 1\n",
    "\n",
    "accuracy_2 = sum(count_2)/len(count_2)\n",
    "print(accuracy_2)"
   ]
  },
  {
   "cell_type": "code",
   "execution_count": 201,
   "id": "bb33f3e9",
   "metadata": {},
   "outputs": [
    {
     "name": "stdout",
     "output_type": "stream",
     "text": [
      "tf.Tensor(\n",
      "[[-0.44224232 -0.44049457 -0.3595942  -0.40082726 -0.39818287 -0.52027565\n",
      "  -0.37104088 -0.37536383 -0.3410018  -0.35946435 -0.3340733  -0.377038\n",
      "  -0.32816923 -0.32023168 -0.35990408 -0.4204599  -0.46819538 -0.6359366 ]\n",
      " [-0.37169385 -0.33188525 -0.24183676 -0.25675943 -0.32094237 -0.43068627\n",
      "  -0.49026215 -0.5733881  -0.4311325  -0.35654455 -0.34114522 -0.25252855\n",
      "  -0.19732267 -0.22223389 -0.2217834  -0.22273573 -0.39458445 -0.5439453 ]\n",
      " [-0.31498587 -0.3717054  -0.33308098 -0.35680902 -0.29884416 -0.4440096\n",
      "  -0.4558519  -0.45394933 -0.39014733 -0.3924275  -0.25224602 -0.33072838\n",
      "  -0.28765783 -0.31790176 -0.30437243 -0.33542407 -0.38316387 -0.43678197]\n",
      " [-0.52253604 -0.47650093 -0.4585018  -0.45319226 -0.47697532 -0.54623556\n",
      "  -0.50033116 -0.4120406  -0.29116684 -0.35855943 -0.40696275 -0.4662715\n",
      "  -0.48270682 -0.42971724 -0.44785938 -0.46362644 -0.40361825 -0.43232664]\n",
      " [-0.3537228  -0.35821822 -0.23936976 -0.43363658 -0.49926245 -0.56984144\n",
      "  -0.3933825  -0.3518269  -0.19742656 -0.3500262  -0.39995122 -0.42364618\n",
      "  -0.35193712 -0.3271565  -0.35275573 -0.40075722 -0.35936597 -0.35222048]\n",
      " [-0.27497256 -0.20892626 -0.23703748 -0.349714   -0.51262975 -0.5325997\n",
      "  -0.38460833 -0.18081623 -0.17671597 -0.30109155 -0.32142597 -0.3327892\n",
      "  -0.29724127 -0.28679934 -0.36622894 -0.35964012 -0.294311   -0.24954823]\n",
      " [-0.2856397  -0.30119556 -0.3193609  -0.38077977 -0.38511947 -0.49187326\n",
      "  -0.34799096 -0.21688426 -0.18136519 -0.29892182 -0.36539614 -0.41001618\n",
      "  -0.4342786  -0.47986472 -0.5021483  -0.4476378  -0.31458127 -0.29516768]\n",
      " [-0.28853357 -0.3600405  -0.32961023 -0.37943625 -0.40703338 -0.3754258\n",
      "  -0.30564758 -0.32759154 -0.30056262 -0.37745112 -0.4177333  -0.4615606\n",
      "  -0.5270742  -0.5327994  -0.49962097 -0.43242502 -0.30572027 -0.25061285]\n",
      " [-0.15103364 -0.27075958 -0.27723145 -0.3133398  -0.3192395  -0.3711607\n",
      "  -0.24245533 -0.44527888 -0.3871349  -0.38167375 -0.40485394 -0.469873\n",
      "  -0.47554523 -0.47659957 -0.37867105 -0.30693614 -0.23477763 -0.22245741]\n",
      " [-0.24758202 -0.30376023 -0.29717523 -0.38371405 -0.42839062 -0.4092909\n",
      "  -0.35165396 -0.37554026 -0.37642646 -0.42395133 -0.4587415  -0.4592337\n",
      "  -0.43781775 -0.42979115 -0.3408842  -0.33198154 -0.27622116 -0.2537436 ]\n",
      " [-0.31081977 -0.39921665 -0.3902453  -0.41611308 -0.33484876 -0.34874246\n",
      "  -0.28890765 -0.4317068  -0.4445526  -0.44857174 -0.3454967  -0.37719697\n",
      "  -0.39812666 -0.42779016 -0.3875907  -0.3346787  -0.28265554 -0.24373835]\n",
      " [-0.40273264 -0.36338007 -0.34673405 -0.4251928  -0.22011152 -0.26554042\n",
      "  -0.3728082  -0.43325773 -0.42633104 -0.4719088  -0.3922496  -0.30804414\n",
      "  -0.32593673 -0.31678423 -0.34404433 -0.31900626 -0.26010752 -0.19376117]\n",
      " [-0.43477076 -0.4019667  -0.2552457  -0.21566732 -0.10486121 -0.20704108\n",
      "  -0.21250308 -0.34223825 -0.3933118  -0.3922899  -0.28592739 -0.3579889\n",
      "  -0.23050511 -0.35548508 -0.36928743 -0.32574928 -0.24381381 -0.20776135]\n",
      " [-0.42800537 -0.3591994  -0.19823149 -0.148364   -0.22642191 -0.31799212\n",
      "  -0.24918982 -0.42656088 -0.4737233  -0.4480579  -0.3549229  -0.37203735\n",
      "  -0.34310585 -0.38931423 -0.3438369  -0.31991458 -0.27835    -0.18934333]\n",
      " [-0.25808576 -0.1703023   0.01433067 -0.12895313 -0.16518545 -0.24615422\n",
      "  -0.24639267 -0.41570637 -0.39259768 -0.4482819  -0.32205504 -0.2976089\n",
      "  -0.2889222  -0.2983635  -0.29123598 -0.33138317 -0.2567664  -0.19184053]\n",
      " [-0.19151556 -0.07853577  0.02430856  0.01716602 -0.10752812 -0.2549974\n",
      "  -0.2461847  -0.2812101  -0.33926332 -0.35530278 -0.235381   -0.22201398\n",
      "  -0.0980154  -0.11013305 -0.22894108 -0.22777435 -0.16963267 -0.1339786 ]\n",
      " [-0.18432996 -0.18766755 -0.09015808  0.11499042  0.06774571 -0.17477895\n",
      "  -0.18518044 -0.32435313 -0.27733538 -0.23859105 -0.16475599 -0.1043441\n",
      "  -0.05858293 -0.11816445 -0.17721108 -0.16578934 -0.10313785 -0.06743157]\n",
      " [-0.23602054 -0.23834825 -0.25436002 -0.02735968 -0.06434701 -0.11221261\n",
      "  -0.2444135  -0.27947462 -0.24535426 -0.17729925 -0.15407592 -0.13760361\n",
      "  -0.1299142  -0.13134381 -0.2154401  -0.10707071 -0.05480525 -0.1189898 ]], shape=(18, 18), dtype=float32)\n"
     ]
    }
   ],
   "source": [
    "print(generated_image[388,:,:,0] - generated_image[138,:,:,0] )"
   ]
  },
  {
   "cell_type": "code",
   "execution_count": null,
   "id": "f58c3ef0",
   "metadata": {},
   "outputs": [],
   "source": []
  },
  {
   "cell_type": "code",
   "execution_count": null,
   "id": "8b8dd6b8",
   "metadata": {},
   "outputs": [],
   "source": []
  }
 ],
 "metadata": {
  "kernelspec": {
   "display_name": "Python 3",
   "language": "python",
   "name": "python3"
  },
  "language_info": {
   "codemirror_mode": {
    "name": "ipython",
    "version": 3
   },
   "file_extension": ".py",
   "mimetype": "text/x-python",
   "name": "python",
   "nbconvert_exporter": "python",
   "pygments_lexer": "ipython3",
   "version": "3.7.7"
  }
 },
 "nbformat": 4,
 "nbformat_minor": 5
}
